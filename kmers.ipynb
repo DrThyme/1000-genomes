{
 "cells": [
  {
   "cell_type": "code",
   "execution_count": null,
   "metadata": {
    "collapsed": true
   },
   "outputs": [],
   "source": []
  },
  {
   "cell_type": "markdown",
   "metadata": {},
   "source": [
    "We start by importing all necessary modules."
   ]
  },
  {
   "cell_type": "code",
   "execution_count": 1,
   "metadata": {
    "collapsed": false,
    "scrolled": true
   },
   "outputs": [
    {
     "name": "stdout",
     "output_type": "stream",
     "text": [
      "Populating the interactive namespace from numpy and matplotlib\n"
     ]
    }
   ],
   "source": [
    "%pylab inline\n",
    "import pysam\n",
    "import urllib.request\n",
    "import traceback\n",
    "import pysam\n",
    "import timeit\n",
    "from pyspark import SparkConf, SparkContext\n",
    "import matplotlib.pyplot as plt\n",
    "import numpy as np"
   ]
  },
  {
   "cell_type": "markdown",
   "metadata": {},
   "source": [
    "Next we initialize the Spark Context to allow us to utilize the Apache Spark functionality in our application."
   ]
  },
  {
   "cell_type": "code",
   "execution_count": 2,
   "metadata": {
    "collapsed": false
   },
   "outputs": [],
   "source": [
    "conf = (SparkConf().setMaster(\"local[*]\").setAppName(\"My app\"))\n",
    "sc = SparkContext(conf=conf)"
   ]
  },
  {
   "cell_type": "markdown",
   "metadata": {},
   "source": [
    "This part is used in case we need to access the files without using Spark. Mostly this is used in order to be able to compare the performance of our implementation when not using Spark."
   ]
  },
  {
   "cell_type": "code",
   "execution_count": 3,
   "metadata": {
    "collapsed": true
   },
   "outputs": [],
   "source": [
    "base_url = \"http://130.238.29.253:8080/swift/v1/1000-genomes-dataset\"\n",
    "files = urllib.request.urlopen(base_url).read().split()\n",
    "bams = [s.strip() for s in files if \"bai\" not in str(s) and \"bas\" not in str(s)]"
   ]
  },
  {
   "cell_type": "markdown",
   "metadata": {},
   "source": [
    "The following function will take a url containing several .bam files as input. For each .bam file the function will extract all unmapped reads and divide them into 10-mers. run_pysam will also return the position of the kmer."
   ]
  },
  {
   "cell_type": "code",
   "execution_count": 4,
   "metadata": {
    "collapsed": false
   },
   "outputs": [],
   "source": [
    "def run_pysam(url):\n",
    "    try:\n",
    "        with pysam.AlignmentFile(url, \"rb\") as bam:\n",
    "            pos = []\n",
    "            kmer = []\n",
    "            index=0\n",
    "            for b in bam.fetch(until_eof=True):\n",
    "                if b.is_unmapped:\n",
    "                    sub_kmer = []\n",
    "                    start = b.query_alignment_start\n",
    "                    stop = b.query_alignment_end\n",
    "                    for i in range(start, stop - 9):\n",
    "                        sub_kmer.append(b.query_sequence[i:i+10])\n",
    "                    kmer = kmer + sub_kmer\n",
    "                    pos.append(b.reference_start)\n",
    "                    if index > 100000:\n",
    "                        break\n",
    "                index +=1\n",
    "            return kmer,pos\n",
    "    except Exception:\n",
    "        traceback.print_exc()"
   ]
  },
  {
   "cell_type": "markdown",
   "metadata": {
    "collapsed": false
   },
   "source": [
    "rm_small_kmers is used to remove any non-frequent kmer or too-frequent kmer. A kmer is returned only if the count of that kmer is between 10-200 occurences."
   ]
  },
  {
   "cell_type": "code",
   "execution_count": 8,
   "metadata": {
    "collapsed": false
   },
   "outputs": [],
   "source": [
    "def rm_small_kmers(k,v):\n",
    "    if v > 10 and v < 200:\n",
    "        return k,v\n",
    "    else:\n",
    "        return None,v"
   ]
  },
  {
   "cell_type": "markdown",
   "metadata": {},
   "source": [
    "count_kmers returns a count of all kmers of the same type."
   ]
  },
  {
   "cell_type": "code",
   "execution_count": 9,
   "metadata": {
    "collapsed": false
   },
   "outputs": [],
   "source": [
    "def count_kmers(kmers):\n",
    "    number_of_kmers = kmers.flatMap(lambda x:x)                        \\\n",
    "                      .map(lambda x: (x,1))                            \\\n",
    "                      .reduceByKey(lambda x,y: x+y)                    \\\n",
    "                      .map(lambda x: rm_small_kmers(x[0], x[1]))       \\\n",
    "                      .reduceByKey(lambda x,y: x+y)\n",
    "    return number_of_kmers"
   ]
  },
  {
   "cell_type": "markdown",
   "metadata": {},
   "source": [
    "filter_positions allows for splitting the positions into chunks and counting how many positions fall into each chunk. This is used for the creation of the heatmap."
   ]
  },
  {
   "cell_type": "code",
   "execution_count": 10,
   "metadata": {
    "collapsed": true
   },
   "outputs": [],
   "source": [
    "def filter_positions(positions,end,chunk):\n",
    "    x = []\n",
    "    intensity = []\n",
    "    for r in range(1,end):\n",
    "        pos = positions.filter(lambda x: x != None and x > chunk*(r-1) and x < chunk*r )\n",
    "        x.append(chunk*r)\n",
    "        intensity.append(pos.count())\n",
    "    return x,intensity"
   ]
  },
  {
   "cell_type": "markdown",
   "metadata": {},
   "source": [
    "Creates a heatmap of the postitions of kmers."
   ]
  },
  {
   "cell_type": "code",
   "execution_count": 22,
   "metadata": {
    "collapsed": true
   },
   "outputs": [],
   "source": [
    "def create_heatmap(x,intensity,chunk):\n",
    "    a = []\n",
    "    a.append(intensity)\n",
    "    fig, ax = plt.subplots()\n",
    "    heatmap = ax.pcolor(a, cmap=plt.cm.OrRd)\n",
    "    ax.set_title('Heatmap of kmer positions')\n",
    "    #ax.set_xticklabels(row_labels, minor=False)\n",
    "    cur_axes = plt.gca()\n",
    "    cur_axes.axes.get_yaxis().set_visible(False)\n",
    "\n",
    "    ax.set_xlabel('Postition (x * ' + str(chunk) + ')')\n",
    "\n",
    "    color = fig.colorbar(heatmap)"
   ]
  },
  {
   "cell_type": "markdown",
   "metadata": {
    "collapsed": false
   },
   "source": [
    "This is where the main functionality takes place. "
   ]
  },
  {
   "cell_type": "code",
   "execution_count": 16,
   "metadata": {
    "collapsed": false
   },
   "outputs": [
    {
     "name": "stdout",
     "output_type": "stream",
     "text": [
      "Total runtime Spark:  35.84356709202984\n"
     ]
    }
   ],
   "source": [
    "# Decides how many files we want to process. Set to len(bams) to use all files.\n",
    "runs = 3\n",
    "\n",
    "# Get the start-time for the main body of work. Used to calculate runtime.\n",
    "t0 = timeit.default_timer()\n",
    "\n",
    "# Here we run the run_pysam function on each file in the bam folder. The work is parallelized in\n",
    "# order to improve the performance.\n",
    "unmapped = sc.parallelize(bams[0:runs]).map(lambda x: base_url + \"/\" + str(x, 'utf-8').replace(\"'\",\"\"))\\\n",
    "                             .map(lambda x: run_pysam(x))\n",
    "# We extract the positions and kmers from the RDD containing the unmapped reads.\n",
    "positions = unmapped.map(lambda x : x[1]).flatMap(lambda x: x)\n",
    "kmers = unmapped.map(lambda x : x[0])\n",
    "\n",
    "pos = positions.collect()\n",
    "# Get the count of each kmer.\n",
    "number_of_kmers = count_kmers(kmers)\n",
    "kmers_occurences = number_of_kmers.collect()\n",
    "\n",
    "# Get the largest position.\n",
    "maxpos = positions.max()\n",
    "positions.cache()\n",
    "\n",
    "# Divide the postitions into chunks and count how many falls into each chunk.\n",
    "# This is used for the heatmap.\n",
    "chunk = 25000\n",
    "end = math.ceil(maxpos/chunk)\n",
    "x,intensity = filter_positions(positions,end,chunk)\n",
    "\n",
    "# Get the total runtime.\n",
    "t1 = timeit.default_timer()\n",
    "\n",
    "print(\"Total runtime Spark: \",t1-t0)"
   ]
  },
  {
   "cell_type": "markdown",
   "metadata": {},
   "source": [
    "This section was used in order to compare the average performance of the application when running Spark vs not running Spark."
   ]
  },
  {
   "cell_type": "code",
   "execution_count": null,
   "metadata": {
    "collapsed": false
   },
   "outputs": [],
   "source": [
    "# runs is how many files we want to process. \n",
    "# repeat is how many times we want to repeat each process allowing for average calculation.\n",
    "runs = 4\n",
    "repeat = 1\n",
    "\n",
    "i = 0\n",
    "total = 0\n",
    "\n",
    "# This part runs the application without Spark.\n",
    "while(i < repeat):\n",
    "    t0 = timeit.default_timer()\n",
    "    for b in bams[0:runs]:\n",
    "        url = (base_url + \"/\" + str(b, 'utf-8')).replace(\"'\",\"\")\n",
    "        kmer,pos = run_pysam(url)\n",
    "    t1 = timeit.default_timer()\n",
    "    total += t1-t0\n",
    "    i+=1\n",
    "print(\"Average runtime normal: \",float(total)/repeat)\n",
    "\n",
    "# This part runs the application with Spark.\n",
    "i = 0\n",
    "total = 0\n",
    "while(i < repeat):\n",
    "    # Get the start-time for the main body of work. Used to calculate runtime.\n",
    "    t0 = timeit.default_timer()\n",
    "\n",
    "    # Here we run the run_pysam function on each file in the bam folder. The work is parallelized in\n",
    "    # order to improve the performance.\n",
    "    unmapped = sc.parallelize(bams[0:runs]).map(lambda x: base_url + \"/\" + str(x, 'utf-8').replace(\"'\",\"\"))\\\n",
    "                                 .map(lambda x: run_pysam(x))\n",
    "    # We extract the positions and kmers from the RDD containing the unmapped reads.\n",
    "    positions = unmapped.map(lambda x : x[1]).flatMap(lambda x: x)\n",
    "    kmers = unmapped.map(lambda x : x[0])\n",
    "\n",
    "    get = unmapped.collect()\n",
    "\n",
    "    t1 = timeit.default_timer()\n",
    "    total += t1-t0\n",
    "    i+=1\n",
    "\n",
    "print(\"Average runtime Spark: \",float(total)/repeat)"
   ]
  },
  {
   "cell_type": "markdown",
   "metadata": {},
   "source": [
    "Average measurements for Spark vs No-Spark runs."
   ]
  },
  {
   "cell_type": "markdown",
   "metadata": {},
   "source": [
    "| Files | With Spark              | Without Spark      |\n",
    "|:-----:| -----------------------:| ------------------:|\n",
    "| 1     | 7.39162574732715        | 8.051276689996788  |\n",
    "| 2     | 13.12760775531448       | 16.416337861679494 |\n",
    "| 3     | 15.257276134992328      | 21.786817027333502 |\n",
    "| 4     | 18.739379164995626      | 27.389469240336137 |\n",
    "| 5     | 24.601100018665118      | 46.99257566700302  |\n",
    "| 6     | 28.210006284663297      | 56.196963629995786 |"
   ]
  },
  {
   "cell_type": "markdown",
   "metadata": {},
   "source": [
    "Create the heatmap for the positions."
   ]
  },
  {
   "cell_type": "code",
   "execution_count": 23,
   "metadata": {
    "collapsed": false
   },
   "outputs": [
    {
     "data": {
      "image/png": "[encoded data removed]",
      "text/plain": [
       "<matplotlib.figure.Figure at 0x7fa2d12c80f0>"
      ]
     },
     "metadata": {},
     "output_type": "display_data"
    }
   ],
   "source": [
    "create_heatmap(x,intensity,chunk)"
   ]
  },
  {
   "cell_type": "code",
   "execution_count": null,
   "metadata": {
    "collapsed": true
   },
   "outputs": [],
   "source": []
  }
 ],
 "metadata": {
  "kernelspec": {
   "display_name": "Python 3",
   "language": "python",
   "name": "python3"
  },
  "language_info": {
   "codemirror_mode": {
    "name": "ipython",
    "version": 3
   },
   "file_extension": ".py",
   "mimetype": "text/x-python",
   "name": "python",
   "nbconvert_exporter": "python",
   "pygments_lexer": "ipython3",
   "version": "3.5.1"
  },
  "widgets": {
   "state": {},
   "version": "1.1.1"
  }
 },
 "nbformat": 4,
 "nbformat_minor": 0
}
