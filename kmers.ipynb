{
 "cells": [
  {
   "cell_type": "code",
   "execution_count": 1,
   "metadata": {
    "collapsed": false,
    "scrolled": true
   },
   "outputs": [],
   "source": [
    "import pysam\n",
    "import urllib.request\n",
    "import traceback\n",
    "import pysam\n",
    "from pyspark import SparkConf, SparkContext\n",
    "\n",
    "conf = (SparkConf().setMaster(\"local[*]\").setAppName(\"My app\"))\n",
    "sc = SparkContext(conf=conf)\n",
    "\n",
    "\n",
    "def find_kmers(string, k):\n",
    "      kmers = []\n",
    "      n = len(string)\n",
    "      for i in range(0, n-k+1):\n",
    "           kmers.append(string[i:i+k])\n",
    "      return kmers\n",
    "\n",
    "base_url = \"http://130.238.29.253:8080/swift/v1/1000-genomes-dataset\"\n",
    "files = urllib.request.urlopen(base_url).read().split()\n",
    "bams = [s.strip() for s in files if \"bai\" not in str(s) and \"bas\" not in str(s)]"
   ]
  },
  {
   "cell_type": "code",
   "execution_count": 2,
   "metadata": {
    "collapsed": false
   },
   "outputs": [],
   "source": [
    "sequences = []\n",
    "\n",
    "for i in range(2):\n",
    "    bam_url = base_url + \"/\" + str(bams[i], 'utf-8').replace(\"'\",\"\")\n",
    "    try:\n",
    "        with pysam.AlignmentFile(bam_url, \"rb\") as bam:\n",
    "            for b in bam.fetch(until_eof=True):\n",
    "                if b.is_unmapped:\n",
    "                    sequences.append(b.query_alignment_sequence)\n",
    "                \n",
    "    except Exception:\n",
    "        print(Exception)\n",
    "        traceback.print_exc()"
   ]
  },
  {
   "cell_type": "code",
   "execution_count": null,
   "metadata": {
    "collapsed": false
   },
   "outputs": [],
   "source": [
    "kmers = []\n",
    "\n",
    "for s in sequences:\n",
    "    kmers = kmers + find_kmers(s, 10)\n"
   ]
  },
  {
   "cell_type": "code",
   "execution_count": null,
   "metadata": {
    "collapsed": false
   },
   "outputs": [],
   "source": [
    "with open('output.txt', 'w') as f:\n",
    "    for k in kmers:\n",
    "        f.write(k + '\\n')"
   ]
  },
  {
   "cell_type": "code",
   "execution_count": null,
   "metadata": {
    "collapsed": false
   },
   "outputs": [],
   "source": [
    "text_file = sc.textFile(\"output.txt\")\n",
    "\n",
    "counts = text_file.flatMap(lambda line: line.split(\" \")) \\\n",
    "             .map(lambda word: (word, 1)) \\\n",
    "             .reduceByKey(lambda a, b: a + b)\n",
    "\n",
    "counts.saveAsTextFile(\"reduced.txt\")\n"
   ]
  },
  {
   "cell_type": "code",
   "execution_count": null,
   "metadata": {
    "collapsed": false
   },
   "outputs": [],
   "source": [
    "sc.stop()"
   ]
  },
  {
   "cell_type": "code",
   "execution_count": null,
   "metadata": {
    "collapsed": false
   },
   "outputs": [],
   "source": []
  },
  {
   "cell_type": "code",
   "execution_count": null,
   "metadata": {
    "collapsed": true
   },
   "outputs": [],
   "source": []
  }
 ],
 "metadata": {
  "kernelspec": {
   "display_name": "Python 3",
   "language": "python",
   "name": "python3"
  },
  "language_info": {
   "codemirror_mode": {
    "name": "ipython",
    "version": 3
   },
   "file_extension": ".py",
   "mimetype": "text/x-python",
   "name": "python",
   "nbconvert_exporter": "python",
   "pygments_lexer": "ipython3",
   "version": "3.5.1"
  },
  "widgets": {
   "state": {},
   "version": "1.1.1"
  }
 },
 "nbformat": 4,
 "nbformat_minor": 0
}
